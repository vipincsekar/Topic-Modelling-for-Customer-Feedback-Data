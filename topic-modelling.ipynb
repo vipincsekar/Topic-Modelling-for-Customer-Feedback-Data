{
 "cells": [
  {
   "cell_type": "markdown",
   "metadata": {},
   "source": [
    "# Importing libraries"
   ]
  },
  {
   "cell_type": "code",
   "execution_count": 1,
   "metadata": {},
   "outputs": [],
   "source": [
    "import pandas as pd\n",
    "import gzip\n",
    "import json"
   ]
  },
  {
   "cell_type": "markdown",
   "metadata": {},
   "source": [
    "# Reading Data"
   ]
  },
  {
   "cell_type": "code",
   "execution_count": 2,
   "metadata": {},
   "outputs": [],
   "source": [
    "def read_data(file_path):\n",
    "    def parse(path):\n",
    "        g = gzip.open(file_path, 'r')\n",
    "        for l in g:\n",
    "            yield json.loads(l)\n",
    "\n",
    "    def getDF(path):\n",
    "        i = 0\n",
    "        df = {}\n",
    "        for d in parse(path):\n",
    "            df[i] = d\n",
    "            i += 1\n",
    "        return pd.DataFrame.from_dict(df, orient='index')\n",
    "    df = getDF(file_path)\n",
    "    return df"
   ]
  },
  {
   "cell_type": "code",
   "execution_count": 3,
   "metadata": {},
   "outputs": [],
   "source": [
    "amazon_fashion=read_data('SIHN/AMAZON_FASHION_5.json.gz')\n",
    "amazon_all_beauty=read_data('SIHN/All_Beauty_5.json.gz')\n",
    "amazon_applicanes=read_data('SIHN/Appliances_5.json.gz')\n",
    "amazon_magazine=read_data('SIHN/Magazine_Subscriptions_5.json.gz')\n",
    "amazon_software=read_data('SIHN/Software_5.json.gz')\n",
    "amazon_giftcards=read_data('SIHN/Gift_Cards_5.json.gz')"
   ]
  },
  {
   "cell_type": "code",
   "execution_count": 4,
   "metadata": {},
   "outputs": [],
   "source": [
    "amazon_fashion.to_csv('SIHN/amazon_fashion.csv',index=False)\n",
    "amazon_all_beauty.to_csv(\"SIHN/amazon_all_beauty.csv\",index=False)\n",
    "amazon_applicanes.to_csv(\"SIHN/amazon_applicanes.csv\",index=False)\n",
    "amazon_magazine.to_csv(\"SIHN/amazon_magazine.csv\",index=False)\n",
    "amazon_software.to_csv(\"SIHN/amazon_software.csv\",index=False)\n",
    "amazon_giftcards.to_csv(\"SIHN/amazon_giftcards.csv\",index=False)"
   ]
  },
  {
   "cell_type": "code",
   "execution_count": 5,
   "metadata": {},
   "outputs": [
    {
     "name": "stdout",
     "output_type": "stream",
     "text": [
      "Length of data with duplicates: 3176 5269 2277 2375 12805 2972\n",
      "Total number of data with duplication: 28874\n"
     ]
    }
   ],
   "source": [
    "print(\"Length of data with duplicates:\",\n",
    "      len(amazon_fashion),len(amazon_all_beauty),len(amazon_applicanes),\n",
    "      len(amazon_magazine),len(amazon_software),len(amazon_giftcards))\n",
    "print(\"Total number of data with duplication: {}\".format(\n",
    "     len(amazon_fashion)+len(amazon_all_beauty)+len(amazon_applicanes)\n",
    "     +len(amazon_magazine)+len(amazon_software)+len(amazon_giftcards)))"
   ]
  },
  {
   "cell_type": "code",
   "execution_count": 6,
   "metadata": {},
   "outputs": [],
   "source": [
    "amazon_fashion = amazon_fashion.drop_duplicates('reviewText', keep='last')\n",
    "amazon_all_beauty = amazon_all_beauty.drop_duplicates('reviewText', keep='last')\n",
    "amazon_applicanes = amazon_applicanes.drop_duplicates('reviewText', keep='last')\n",
    "amazon_magazine = amazon_magazine.drop_duplicates('reviewText', keep='last')\n",
    "amazon_software = amazon_software.drop_duplicates('reviewText', keep='last')\n",
    "amazon_giftcards = amazon_giftcards.drop_duplicates('reviewText', keep='last')"
   ]
  },
  {
   "cell_type": "code",
   "execution_count": 7,
   "metadata": {},
   "outputs": [
    {
     "name": "stdout",
     "output_type": "stream",
     "text": [
      "Length of amazon_fashion data after removing duplicates: 439 1364 144 1890 10606 1938\n",
      "Total number of data after duplication: 16381\n"
     ]
    }
   ],
   "source": [
    "print(\"Length of amazon_fashion data after removing duplicates:\",\n",
    "      len(amazon_fashion),len(amazon_all_beauty),len(amazon_applicanes),\n",
    "      len(amazon_magazine),len(amazon_software),len(amazon_giftcards))\n",
    "print(\"Total number of data after duplication: {}\".format(\n",
    "     len(amazon_fashion)+len(amazon_all_beauty)+len(amazon_applicanes)\n",
    "     +len(amazon_magazine)+len(amazon_software)+len(amazon_giftcards)))"
   ]
  },
  {
   "cell_type": "code",
   "execution_count": 8,
   "metadata": {},
   "outputs": [],
   "source": [
    "amazon_review_data_frame=[amazon_fashion,amazon_all_beauty,amazon_applicanes,amazon_magazine,amazon_software,amazon_giftcards]"
   ]
  },
  {
   "cell_type": "code",
   "execution_count": 9,
   "metadata": {},
   "outputs": [],
   "source": [
    "amazon_review_dfr=pd.DataFrame([])\n",
    "amazon_review_dfr=pd.concat(amazon_review_data_frame,sort=False)"
   ]
  },
  {
   "cell_type": "code",
   "execution_count": 10,
   "metadata": {},
   "outputs": [
    {
     "data": {
      "text/html": [
       "<div>\n",
       "<style scoped>\n",
       "    .dataframe tbody tr th:only-of-type {\n",
       "        vertical-align: middle;\n",
       "    }\n",
       "\n",
       "    .dataframe tbody tr th {\n",
       "        vertical-align: top;\n",
       "    }\n",
       "\n",
       "    .dataframe thead th {\n",
       "        text-align: right;\n",
       "    }\n",
       "</style>\n",
       "<table border=\"1\" class=\"dataframe\">\n",
       "  <thead>\n",
       "    <tr style=\"text-align: right;\">\n",
       "      <th></th>\n",
       "      <th>overall</th>\n",
       "      <th>verified</th>\n",
       "      <th>reviewTime</th>\n",
       "      <th>reviewerID</th>\n",
       "      <th>asin</th>\n",
       "      <th>style</th>\n",
       "      <th>reviewerName</th>\n",
       "      <th>reviewText</th>\n",
       "      <th>summary</th>\n",
       "      <th>unixReviewTime</th>\n",
       "      <th>vote</th>\n",
       "      <th>image</th>\n",
       "    </tr>\n",
       "  </thead>\n",
       "  <tbody>\n",
       "    <tr>\n",
       "      <th>4318</th>\n",
       "      <td>5.0</td>\n",
       "      <td>True</td>\n",
       "      <td>01 7, 2017</td>\n",
       "      <td>A2B33XXX3MZC6R</td>\n",
       "      <td>B001OHV1H4</td>\n",
       "      <td>{'Size:': ' 49'}</td>\n",
       "      <td>Tom Waters</td>\n",
       "      <td>Great comb! Very well made and the wood even h...</td>\n",
       "      <td>Another quality product from Northern Fir</td>\n",
       "      <td>1483747200</td>\n",
       "      <td>NaN</td>\n",
       "      <td>NaN</td>\n",
       "    </tr>\n",
       "    <tr>\n",
       "      <th>4320</th>\n",
       "      <td>5.0</td>\n",
       "      <td>True</td>\n",
       "      <td>01 5, 2017</td>\n",
       "      <td>A1C13KVGOWMI6A</td>\n",
       "      <td>B001OHV1H4</td>\n",
       "      <td>{'Size:': ' 78'}</td>\n",
       "      <td>Heather</td>\n",
       "      <td>Great product and good service.</td>\n",
       "      <td>Five Stars</td>\n",
       "      <td>1483574400</td>\n",
       "      <td>NaN</td>\n",
       "      <td>NaN</td>\n",
       "    </tr>\n",
       "    <tr>\n",
       "      <th>4321</th>\n",
       "      <td>5.0</td>\n",
       "      <td>False</td>\n",
       "      <td>12 29, 2016</td>\n",
       "      <td>A2KPY1O5YG9B6I</td>\n",
       "      <td>B001OHV1H4</td>\n",
       "      <td>{'Size:': ' 28'}</td>\n",
       "      <td>lhasa lover</td>\n",
       "      <td>I'm 63 with still nice hair but so much less t...</td>\n",
       "      <td>great conditioner but please make a larger bottle</td>\n",
       "      <td>1482969600</td>\n",
       "      <td>3</td>\n",
       "      <td>NaN</td>\n",
       "    </tr>\n",
       "    <tr>\n",
       "      <th>4322</th>\n",
       "      <td>5.0</td>\n",
       "      <td>True</td>\n",
       "      <td>12 26, 2016</td>\n",
       "      <td>A7QMV1ENEUAC9</td>\n",
       "      <td>B001OHV1H4</td>\n",
       "      <td>{'Size:': ' 1000ml/33.8oz'}</td>\n",
       "      <td>mary</td>\n",
       "      <td>love this shampoo, came very quickly, thank you.</td>\n",
       "      <td>Five Stars</td>\n",
       "      <td>1482710400</td>\n",
       "      <td>NaN</td>\n",
       "      <td>NaN</td>\n",
       "    </tr>\n",
       "    <tr>\n",
       "      <th>4323</th>\n",
       "      <td>5.0</td>\n",
       "      <td>True</td>\n",
       "      <td>12 20, 2016</td>\n",
       "      <td>A22WRCL3T66COU</td>\n",
       "      <td>B001OHV1H4</td>\n",
       "      <td>{'Size:': ' 352'}</td>\n",
       "      <td>Moniqueici</td>\n",
       "      <td>Eau de Hadrien is my favorite of the Annick Go...</td>\n",
       "      <td>Lovely light fragrance</td>\n",
       "      <td>1482192000</td>\n",
       "      <td>NaN</td>\n",
       "      <td>NaN</td>\n",
       "    </tr>\n",
       "  </tbody>\n",
       "</table>\n",
       "</div>"
      ],
      "text/plain": [
       "      overall  verified   reviewTime      reviewerID        asin  \\\n",
       "4318      5.0      True   01 7, 2017  A2B33XXX3MZC6R  B001OHV1H4   \n",
       "4320      5.0      True   01 5, 2017  A1C13KVGOWMI6A  B001OHV1H4   \n",
       "4321      5.0     False  12 29, 2016  A2KPY1O5YG9B6I  B001OHV1H4   \n",
       "4322      5.0      True  12 26, 2016   A7QMV1ENEUAC9  B001OHV1H4   \n",
       "4323      5.0      True  12 20, 2016  A22WRCL3T66COU  B001OHV1H4   \n",
       "\n",
       "                            style reviewerName  \\\n",
       "4318             {'Size:': ' 49'}   Tom Waters   \n",
       "4320             {'Size:': ' 78'}      Heather   \n",
       "4321             {'Size:': ' 28'}  lhasa lover   \n",
       "4322  {'Size:': ' 1000ml/33.8oz'}         mary   \n",
       "4323            {'Size:': ' 352'}   Moniqueici   \n",
       "\n",
       "                                             reviewText  \\\n",
       "4318  Great comb! Very well made and the wood even h...   \n",
       "4320                    Great product and good service.   \n",
       "4321  I'm 63 with still nice hair but so much less t...   \n",
       "4322   love this shampoo, came very quickly, thank you.   \n",
       "4323  Eau de Hadrien is my favorite of the Annick Go...   \n",
       "\n",
       "                                                summary  unixReviewTime vote  \\\n",
       "4318          Another quality product from Northern Fir      1483747200  NaN   \n",
       "4320                                         Five Stars      1483574400  NaN   \n",
       "4321  great conditioner but please make a larger bottle      1482969600    3   \n",
       "4322                                         Five Stars      1482710400  NaN   \n",
       "4323                             Lovely light fragrance      1482192000  NaN   \n",
       "\n",
       "     image  \n",
       "4318   NaN  \n",
       "4320   NaN  \n",
       "4321   NaN  \n",
       "4322   NaN  \n",
       "4323   NaN  "
      ]
     },
     "execution_count": 10,
     "metadata": {},
     "output_type": "execute_result"
    }
   ],
   "source": [
    "amazon_review_dfr.iloc[1000:1005]"
   ]
  },
  {
   "cell_type": "code",
   "execution_count": 11,
   "metadata": {},
   "outputs": [
    {
     "data": {
      "text/plain": [
       "Index(['overall', 'verified', 'reviewTime', 'reviewerID', 'asin', 'style',\n",
       "       'reviewerName', 'reviewText', 'summary', 'unixReviewTime', 'vote',\n",
       "       'image'],\n",
       "      dtype='object')"
      ]
     },
     "execution_count": 11,
     "metadata": {},
     "output_type": "execute_result"
    }
   ],
   "source": [
    "amazon_review_dfr.columns"
   ]
  },
  {
   "cell_type": "code",
   "execution_count": 12,
   "metadata": {},
   "outputs": [
    {
     "data": {
      "text/html": [
       "<div>\n",
       "<style scoped>\n",
       "    .dataframe tbody tr th:only-of-type {\n",
       "        vertical-align: middle;\n",
       "    }\n",
       "\n",
       "    .dataframe tbody tr th {\n",
       "        vertical-align: top;\n",
       "    }\n",
       "\n",
       "    .dataframe thead th {\n",
       "        text-align: right;\n",
       "    }\n",
       "</style>\n",
       "<table border=\"1\" class=\"dataframe\">\n",
       "  <thead>\n",
       "    <tr style=\"text-align: right;\">\n",
       "      <th></th>\n",
       "      <th>overall</th>\n",
       "      <th>verified</th>\n",
       "      <th>reviewTime</th>\n",
       "      <th>reviewerID</th>\n",
       "      <th>asin</th>\n",
       "      <th>style</th>\n",
       "      <th>reviewerName</th>\n",
       "      <th>reviewText</th>\n",
       "      <th>summary</th>\n",
       "      <th>unixReviewTime</th>\n",
       "      <th>vote</th>\n",
       "      <th>image</th>\n",
       "    </tr>\n",
       "  </thead>\n",
       "  <tbody>\n",
       "    <tr>\n",
       "      <th>4</th>\n",
       "      <td>5.0</td>\n",
       "      <td>True</td>\n",
       "      <td>09 4, 2015</td>\n",
       "      <td>ALJ66O1Y6SLHA</td>\n",
       "      <td>B000K2PJ4K</td>\n",
       "      <td>{'Size:': ' Big Boys', 'Color:': ' Blue/Pink'}</td>\n",
       "      <td>Tonya B.</td>\n",
       "      <td>Great product and price!</td>\n",
       "      <td>Five Stars</td>\n",
       "      <td>1441324800</td>\n",
       "      <td>NaN</td>\n",
       "      <td>NaN</td>\n",
       "    </tr>\n",
       "    <tr>\n",
       "      <th>5</th>\n",
       "      <td>3.0</td>\n",
       "      <td>True</td>\n",
       "      <td>05 6, 2015</td>\n",
       "      <td>A3W11493KS6Z2L</td>\n",
       "      <td>B000K2PJ4K</td>\n",
       "      <td>{'Size:': ' Little Boys', 'Color:': ' White/Bl...</td>\n",
       "      <td>NaeNae</td>\n",
       "      <td>Waaay too small. Will use for futur children!</td>\n",
       "      <td>Oops!</td>\n",
       "      <td>1430870400</td>\n",
       "      <td>NaN</td>\n",
       "      <td>NaN</td>\n",
       "    </tr>\n",
       "    <tr>\n",
       "      <th>7</th>\n",
       "      <td>5.0</td>\n",
       "      <td>True</td>\n",
       "      <td>05 6, 2015</td>\n",
       "      <td>A3W11493KS6Z2L</td>\n",
       "      <td>B000K2PJ4K</td>\n",
       "      <td>{'Size:': ' Little Boys', 'Color:': ' Blue (37...</td>\n",
       "      <td>NaeNae</td>\n",
       "      <td>Stays vibrant after many washes</td>\n",
       "      <td>Good</td>\n",
       "      <td>1430870400</td>\n",
       "      <td>NaN</td>\n",
       "      <td>NaN</td>\n",
       "    </tr>\n",
       "    <tr>\n",
       "      <th>8</th>\n",
       "      <td>5.0</td>\n",
       "      <td>True</td>\n",
       "      <td>05 6, 2015</td>\n",
       "      <td>A3W11493KS6Z2L</td>\n",
       "      <td>B000K2PJ4K</td>\n",
       "      <td>{'Size:': ' Little Boys', 'Color:': ' Blue/Pink'}</td>\n",
       "      <td>NaeNae</td>\n",
       "      <td>My son really likes the pink. Ones which I was...</td>\n",
       "      <td>Great</td>\n",
       "      <td>1430870400</td>\n",
       "      <td>NaN</td>\n",
       "      <td>NaN</td>\n",
       "    </tr>\n",
       "    <tr>\n",
       "      <th>9</th>\n",
       "      <td>3.0</td>\n",
       "      <td>True</td>\n",
       "      <td>05 6, 2015</td>\n",
       "      <td>A3W11493KS6Z2L</td>\n",
       "      <td>B000K2PJ4K</td>\n",
       "      <td>{'Size:': ' Little Boys', 'Color:': ' Light Bl...</td>\n",
       "      <td>NaeNae</td>\n",
       "      <td>Waaay too small. Will use for future child.</td>\n",
       "      <td>Oops!</td>\n",
       "      <td>1430870400</td>\n",
       "      <td>NaN</td>\n",
       "      <td>NaN</td>\n",
       "    </tr>\n",
       "  </tbody>\n",
       "</table>\n",
       "</div>"
      ],
      "text/plain": [
       "   overall  verified  reviewTime      reviewerID        asin  \\\n",
       "4      5.0      True  09 4, 2015   ALJ66O1Y6SLHA  B000K2PJ4K   \n",
       "5      3.0      True  05 6, 2015  A3W11493KS6Z2L  B000K2PJ4K   \n",
       "7      5.0      True  05 6, 2015  A3W11493KS6Z2L  B000K2PJ4K   \n",
       "8      5.0      True  05 6, 2015  A3W11493KS6Z2L  B000K2PJ4K   \n",
       "9      3.0      True  05 6, 2015  A3W11493KS6Z2L  B000K2PJ4K   \n",
       "\n",
       "                                               style reviewerName  \\\n",
       "4     {'Size:': ' Big Boys', 'Color:': ' Blue/Pink'}     Tonya B.   \n",
       "5  {'Size:': ' Little Boys', 'Color:': ' White/Bl...       NaeNae   \n",
       "7  {'Size:': ' Little Boys', 'Color:': ' Blue (37...       NaeNae   \n",
       "8  {'Size:': ' Little Boys', 'Color:': ' Blue/Pink'}       NaeNae   \n",
       "9  {'Size:': ' Little Boys', 'Color:': ' Light Bl...       NaeNae   \n",
       "\n",
       "                                          reviewText     summary  \\\n",
       "4                           Great product and price!  Five Stars   \n",
       "5      Waaay too small. Will use for futur children!       Oops!   \n",
       "7                    Stays vibrant after many washes        Good   \n",
       "8  My son really likes the pink. Ones which I was...       Great   \n",
       "9        Waaay too small. Will use for future child.       Oops!   \n",
       "\n",
       "   unixReviewTime vote image  \n",
       "4      1441324800  NaN   NaN  \n",
       "5      1430870400  NaN   NaN  \n",
       "7      1430870400  NaN   NaN  \n",
       "8      1430870400  NaN   NaN  \n",
       "9      1430870400  NaN   NaN  "
      ]
     },
     "execution_count": 12,
     "metadata": {},
     "output_type": "execute_result"
    }
   ],
   "source": [
    "amazon_review_dfr.head()"
   ]
  },
  {
   "cell_type": "code",
   "execution_count": 13,
   "metadata": {},
   "outputs": [],
   "source": [
    "amazon_review_data=pd.DataFrame(columns=['Reviews','Ratings'])\n",
    "amazon_review_data['Reviews']=amazon_review_dfr['reviewText']\n",
    "amazon_review_data['Ratings']=amazon_review_dfr['overall']"
   ]
  },
  {
   "cell_type": "code",
   "execution_count": 14,
   "metadata": {},
   "outputs": [
    {
     "name": "stdout",
     "output_type": "stream",
     "text": [
      "Review: I love these shoes so much that  I reordered another pair online. It's hard to find shoes that fit my really wide feet! The heel back is my favorite part on them, they're thin and feel like another layer of skin, not bulky or tight at all.  I walked all over Europe in these!\n",
      "Review: 5.0\n"
     ]
    }
   ],
   "source": [
    "print(\"Review:\",amazon_review_data['Reviews'].iloc[206])\n",
    "print(\"Review:\",amazon_review_data['Ratings'].iloc[206])"
   ]
  },
  {
   "cell_type": "code",
   "execution_count": 15,
   "metadata": {},
   "outputs": [
    {
     "name": "stdout",
     "output_type": "stream",
     "text": [
      "Data size: 16381\n"
     ]
    }
   ],
   "source": [
    "print(\"Data size:\",len(amazon_review_data))"
   ]
  },
  {
   "cell_type": "markdown",
   "metadata": {},
   "source": [
    "# Topic Modelling"
   ]
  },
  {
   "cell_type": "code",
   "execution_count": 16,
   "metadata": {},
   "outputs": [
    {
     "name": "stdout",
     "output_type": "stream",
     "text": [
      "[nltk_data] Downloading package stopwords to /root/nltk_data...\n",
      "[nltk_data]   Package stopwords is already up-to-date!\n"
     ]
    },
    {
     "data": {
      "text/plain": [
       "True"
      ]
     },
     "execution_count": 16,
     "metadata": {},
     "output_type": "execute_result"
    }
   ],
   "source": [
    "import nltk; nltk.download('stopwords')"
   ]
  },
  {
   "cell_type": "code",
   "execution_count": 17,
   "metadata": {},
   "outputs": [],
   "source": [
    "# NLTK Stop words\n",
    "from nltk.corpus import stopwords\n",
    "stop_words = stopwords.words('english')\n",
    "stop_words.extend(['from', 'subject', 're', 'edu', 'use'])\n"
   ]
  },
  {
   "cell_type": "code",
   "execution_count": 23,
   "metadata": {},
   "outputs": [],
   "source": [
    "amazon_review_data=amazon_review_data.reset_index(drop=True)"
   ]
  },
  {
   "cell_type": "code",
   "execution_count": 24,
   "metadata": {},
   "outputs": [
    {
     "data": {
      "text/html": [
       "<div>\n",
       "<style scoped>\n",
       "    .dataframe tbody tr th:only-of-type {\n",
       "        vertical-align: middle;\n",
       "    }\n",
       "\n",
       "    .dataframe tbody tr th {\n",
       "        vertical-align: top;\n",
       "    }\n",
       "\n",
       "    .dataframe thead th {\n",
       "        text-align: right;\n",
       "    }\n",
       "</style>\n",
       "<table border=\"1\" class=\"dataframe\">\n",
       "  <thead>\n",
       "    <tr style=\"text-align: right;\">\n",
       "      <th></th>\n",
       "      <th>Reviews</th>\n",
       "      <th>Ratings</th>\n",
       "    </tr>\n",
       "  </thead>\n",
       "  <tbody>\n",
       "    <tr>\n",
       "      <th>0</th>\n",
       "      <td>Great product and price!</td>\n",
       "      <td>5.0</td>\n",
       "    </tr>\n",
       "    <tr>\n",
       "      <th>1</th>\n",
       "      <td>Waaay too small. Will use for futur children!</td>\n",
       "      <td>3.0</td>\n",
       "    </tr>\n",
       "    <tr>\n",
       "      <th>2</th>\n",
       "      <td>Stays vibrant after many washes</td>\n",
       "      <td>5.0</td>\n",
       "    </tr>\n",
       "    <tr>\n",
       "      <th>3</th>\n",
       "      <td>My son really likes the pink. Ones which I was...</td>\n",
       "      <td>5.0</td>\n",
       "    </tr>\n",
       "    <tr>\n",
       "      <th>4</th>\n",
       "      <td>Waaay too small. Will use for future child.</td>\n",
       "      <td>3.0</td>\n",
       "    </tr>\n",
       "  </tbody>\n",
       "</table>\n",
       "</div>"
      ],
      "text/plain": [
       "                                             Reviews  Ratings\n",
       "0                           Great product and price!      5.0\n",
       "1      Waaay too small. Will use for futur children!      3.0\n",
       "2                    Stays vibrant after many washes      5.0\n",
       "3  My son really likes the pink. Ones which I was...      5.0\n",
       "4        Waaay too small. Will use for future child.      3.0"
      ]
     },
     "execution_count": 24,
     "metadata": {},
     "output_type": "execute_result"
    }
   ],
   "source": [
    "amazon_review_data.head()"
   ]
  },
  {
   "cell_type": "code",
   "execution_count": 19,
   "metadata": {},
   "outputs": [],
   "source": [
    "import re\n",
    "from pprint import pprint\n",
    "# Convert to list\n",
    "data = amazon_review_data.Reviews.values.tolist()"
   ]
  },
  {
   "cell_type": "code",
   "execution_count": 21,
   "metadata": {},
   "outputs": [
    {
     "data": {
      "text/plain": [
       "['Great product and price!', 'Waaay too small. Will use for futur children!']"
      ]
     },
     "execution_count": 21,
     "metadata": {},
     "output_type": "execute_result"
    }
   ],
   "source": [
    "data[0:2]"
   ]
  },
  {
   "cell_type": "code",
   "execution_count": 30,
   "metadata": {},
   "outputs": [],
   "source": [
    "import gensim\n",
    "import gensim.corpora as corpora\n",
    "from gensim.utils import simple_preprocess"
   ]
  },
  {
   "cell_type": "code",
   "execution_count": 31,
   "metadata": {},
   "outputs": [],
   "source": [
    "def sent_to_words(sentences):\n",
    "    for sentence in sentences:\n",
    "        yield(gensim.utils.simple_preprocess(str(sentence), deacc=True))  # deacc=True removes punctuations\n"
   ]
  },
  {
   "cell_type": "code",
   "execution_count": 35,
   "metadata": {},
   "outputs": [
    {
     "data": {
      "text/plain": [
       "'Waaay too small. Will use for futur children!'"
      ]
     },
     "execution_count": 35,
     "metadata": {},
     "output_type": "execute_result"
    }
   ],
   "source": [
    "data[1]"
   ]
  },
  {
   "cell_type": "code",
   "execution_count": 38,
   "metadata": {},
   "outputs": [
    {
     "data": {
      "text/plain": [
       "['waaay', 'too', 'small', 'will', 'use', 'for', 'futur', 'children']"
      ]
     },
     "execution_count": 38,
     "metadata": {},
     "output_type": "execute_result"
    }
   ],
   "source": [
    "data_words[1]"
   ]
  },
  {
   "cell_type": "code",
   "execution_count": 33,
   "metadata": {},
   "outputs": [],
   "source": [
    "data_words = list(sent_to_words(data))"
   ]
  },
  {
   "cell_type": "code",
   "execution_count": 43,
   "metadata": {},
   "outputs": [
    {
     "name": "stdout",
     "output_type": "stream",
     "text": [
      "This might have been a nice product if they had been a usable size.  Even accounting for wiggling wet hands into fabric, these are oversized.  They should be clearly labeled as EXTRA LARGE and their should be a smaller version as an option.  Offering at least two sizes (S/M and L/XL) seems a fair expectation.  Without size options, I expect the size to be \"medium\" not extra large.  This is neither one-size-fits-all or one-size-fits-most.\n",
      "\n",
      "If your hands are small, these are unusable.  If your hands are average, you will still find this big.\n",
      "\n",
      "Fabric is soft and washable.\n",
      "['this', 'might', 'have', 'been', 'nice', 'product', 'if', 'they', 'had', 'been', 'usable', 'size', 'even', 'accounting', 'for', 'wiggling', 'wet', 'hands', 'into', 'fabric', 'these', 'are', 'oversized', 'they', 'should', 'be', 'clearly', 'labeled', 'as', 'extra', 'large', 'and', 'their', 'should', 'be', 'smaller', 'version', 'as', 'an', 'option', 'offering', 'at', 'least', 'two', 'sizes', 'and', 'xl', 'seems', 'fair', 'expectation', 'without', 'size', 'options', 'expect', 'the', 'size', 'to', 'be', 'medium', 'not', 'extra', 'large', 'this', 'is', 'neither', 'one', 'size', 'fits', 'all', 'or', 'one', 'size', 'fits', 'most', 'if', 'your', 'hands', 'are', 'small', 'these', 'are', 'unusable', 'if', 'your', 'hands', 'are', 'average', 'you', 'will', 'still', 'find', 'this', 'big', 'fabric', 'is', 'soft', 'and', 'washable']\n"
     ]
    }
   ],
   "source": [
    "print(data[500])\n",
    "print(data_words[500])"
   ]
  },
  {
   "cell_type": "code",
   "execution_count": 39,
   "metadata": {},
   "outputs": [],
   "source": [
    "# Build the bigram and trigram models\n",
    "bigram = gensim.models.Phrases(data_words, min_count=5, threshold=100) # higher threshold fewer phrases.\n",
    "trigram = gensim.models.Phrases(bigram[data_words], threshold=100)  \n",
    "\n",
    "# Faster way to get a sentence clubbed as a trigram/bigram\n",
    "bigram_mod = gensim.models.phrases.Phraser(bigram)\n",
    "trigram_mod = gensim.models.phrases.Phraser(trigram)"
   ]
  },
  {
   "cell_type": "code",
   "execution_count": 47,
   "metadata": {},
   "outputs": [
    {
     "name": "stdout",
     "output_type": "stream",
     "text": [
      "['love', 'this', 'internet_security', 'product', 'have', 'it', 'on', 'all', 'my', 'computers', 'my', 'son', 'was', 'having', 'problem', 'with', 'his', 'kapersky', 'security', 'so', 'bought', 'trend_micro', 'pro', 'for', 'him', 'great', 'price', 'and', 'quick', 'shipment', 'super', 'product', 'and', 'telephone', 'support', 'can', 'beat', 'that', 'deal']\n"
     ]
    }
   ],
   "source": [
    "# See trigram example\n",
    "print(trigram_mod[bigram_mod[data_words[6545]]])"
   ]
  },
  {
   "cell_type": "code",
   "execution_count": 52,
   "metadata": {},
   "outputs": [],
   "source": [
    "# Define functions for stopwords, bigrams, trigrams and lemmatization\n",
    "def remove_stopwords(texts):\n",
    "    return [[word for word in simple_preprocess(str(doc)) if word not in stop_words] for doc in texts]\n",
    "\n",
    "def make_bigrams(texts):\n",
    "    return [bigram_mod[doc] for doc in texts]\n",
    "\n",
    "def make_trigrams(texts):\n",
    "    return [trigram_mod[bigram_mod[doc]] for doc in texts]\n",
    "\n",
    "def lemmatization(texts, allowed_postags=['NOUN', 'ADJ', 'VERB', 'ADV']):\n",
    "    \"\"\"https://spacy.io/api/annotation\"\"\"\n",
    "    texts_out = []\n",
    "    for sent in texts:\n",
    "        doc = nlp(\" \".join(sent)) \n",
    "        texts_out.append([token.lemma_ for token in doc if token.pos_ in allowed_postags])\n",
    "    return texts_out\n"
   ]
  },
  {
   "cell_type": "code",
   "execution_count": 53,
   "metadata": {},
   "outputs": [],
   "source": [
    "# Remove Stop Words\n",
    "data_words_nostops = remove_stopwords(data_words)"
   ]
  },
  {
   "cell_type": "code",
   "execution_count": 54,
   "metadata": {},
   "outputs": [
    {
     "name": "stdout",
     "output_type": "stream",
     "text": [
      "Tokenized data with stop words: \n",
      " ['bought', 'these', 'as', 'my', 'back', 'up', 'shoes', 'but', 'they', 'have', 'turned', 'into', 'my', 'daily', 'ones', 'go', 'to', 'so', 'comfortable', 'and', 'my', 'feet', 'don', 'hurt', 'after', 'long', 'hours', 'on', 'my', 'feet', 'own', 'cleaning', 'business', 'so', 'need', 'my', 'feet', 'not', 'to', 'hurt', 'in', 'the', 'middle', 'of', 'the', 'day']\n",
      "Tokenized data without stop words: \n",
      " ['bought', 'back', 'shoes', 'turned', 'daily', 'ones', 'go', 'comfortable', 'feet', 'hurt', 'long', 'hours', 'feet', 'cleaning', 'business', 'need', 'feet', 'hurt', 'middle', 'day']\n"
     ]
    }
   ],
   "source": [
    "print(\"Tokenized data with stop words: \\n\",data_words[155])\n",
    "print(\"Tokenized data without stop words: \\n\",data_words_nostops[155])"
   ]
  },
  {
   "cell_type": "code",
   "execution_count": 55,
   "metadata": {},
   "outputs": [],
   "source": [
    "# Form Bigrams\n",
    "data_words_bigrams = make_bigrams(data_words_nostops)"
   ]
  },
  {
   "cell_type": "code",
   "execution_count": 56,
   "metadata": {},
   "outputs": [
    {
     "name": "stdout",
     "output_type": "stream",
     "text": [
      "Bigrams:\n",
      " ['works', 'good', 'exercise']\n"
     ]
    }
   ],
   "source": [
    "print(\"Bigrams:\\n\",data_words_bigrams[545])"
   ]
  },
  {
   "cell_type": "code",
   "execution_count": 57,
   "metadata": {},
   "outputs": [],
   "source": [
    "#!python3 -m spacy download en\n",
    "import spacy\n",
    "# Initialize spacy 'en' model, keeping only tagger component (for efficiency)\n",
    "nlp = spacy.load('en', disable=['parser', 'ner'])"
   ]
  },
  {
   "cell_type": "code",
   "execution_count": 58,
   "metadata": {},
   "outputs": [],
   "source": [
    "# Do lemmatization keeping only noun, adj, vb, adv\n",
    "data_lemmatized = lemmatization(data_words_bigrams, allowed_postags=['NOUN', 'ADJ', 'VERB', 'ADV'])"
   ]
  },
  {
   "cell_type": "code",
   "execution_count": 59,
   "metadata": {},
   "outputs": [
    {
     "name": "stdout",
     "output_type": "stream",
     "text": [
      "Tokenized data before lemmatization:\n",
      " ['good', 'product', 'shipped', 'quick', 'packaged', 'well', 'buy']\n",
      "Tokenized data after lemmatization:\n",
      " ['good', 'product', 'ship', 'quick', 'package', 'well', 'buy']\n"
     ]
    }
   ],
   "source": [
    "print(\"Tokenized data before lemmatization:\\n\",data_words_bigrams[654])\n",
    "print(\"Tokenized data after lemmatization:\\n\",data_lemmatized[654])"
   ]
  },
  {
   "cell_type": "code",
   "execution_count": 60,
   "metadata": {},
   "outputs": [],
   "source": [
    "# Create Dictionary\n",
    "id2word = corpora.Dictionary(data_lemmatized)"
   ]
  },
  {
   "cell_type": "code",
   "execution_count": 61,
   "metadata": {},
   "outputs": [],
   "source": [
    "# Create Corpus\n",
    "texts = data_lemmatized"
   ]
  },
  {
   "cell_type": "code",
   "execution_count": 62,
   "metadata": {},
   "outputs": [],
   "source": [
    "# Term Document Frequency\n",
    "corpus = [id2word.doc2bow(text) for text in texts]"
   ]
  },
  {
   "cell_type": "code",
   "execution_count": 63,
   "metadata": {},
   "outputs": [
    {
     "name": "stdout",
     "output_type": "stream",
     "text": [
      "[(0, 1), (1, 1), (2, 1), (127, 1), (132, 1), (215, 1), (1389, 1)]\n"
     ]
    }
   ],
   "source": [
    "# View\n",
    "print(corpus[1065])"
   ]
  },
  {
   "cell_type": "code",
   "execution_count": 68,
   "metadata": {},
   "outputs": [
    {
     "data": {
      "text/plain": [
       "['great', 'product', 'price']"
      ]
     },
     "execution_count": 68,
     "metadata": {},
     "output_type": "execute_result"
    }
   ],
   "source": [
    "data_lemmatized[0]"
   ]
  },
  {
   "cell_type": "code",
   "execution_count": 64,
   "metadata": {},
   "outputs": [
    {
     "data": {
      "text/plain": [
       "[(0, 1), (1, 1), (2, 1)]"
      ]
     },
     "execution_count": 64,
     "metadata": {},
     "output_type": "execute_result"
    }
   ],
   "source": [
    "corpus[0]"
   ]
  },
  {
   "cell_type": "code",
   "execution_count": 67,
   "metadata": {},
   "outputs": [
    {
     "data": {
      "text/plain": [
       "[[('great', 1), ('price', 1), ('product', 1)]]"
      ]
     },
     "execution_count": 67,
     "metadata": {},
     "output_type": "execute_result"
    }
   ],
   "source": [
    "# Human readable format of corpus (term-frequency)\n",
    "[[(id2word[id], freq) for id, freq in cp] for cp in corpus[:1]]"
   ]
  },
  {
   "cell_type": "code",
   "execution_count": 59,
   "metadata": {},
   "outputs": [],
   "source": [
    "# Build LDA model\n",
    "lda_model = gensim.models.ldamodel.LdaModel(corpus=corpus,\n",
    "                                           id2word=id2word,\n",
    "                                           num_topics=20, \n",
    "                                           random_state=100,\n",
    "                                           update_every=1,\n",
    "                                           chunksize=100,\n",
    "                                           passes=10,\n",
    "                                           alpha='auto',\n",
    "                                           per_word_topics=True)"
   ]
  },
  {
   "cell_type": "code",
   "execution_count": 60,
   "metadata": {},
   "outputs": [
    {
     "name": "stdout",
     "output_type": "stream",
     "text": [
      "[(0,\n",
      "  '0.179*\"expect\" + 0.163*\"fine\" + 0.100*\"one\" + 0.068*\"correct\" + '\n",
      "  '0.044*\"ship\" + 0.000*\"gift\" + 0.000*\"software\" + 0.000*\"card\" + '\n",
      "  '0.000*\"program\" + 0.000*\"version\"'),\n",
      " (1,\n",
      "  '0.141*\"full\" + 0.126*\"large\" + 0.076*\"perfectly\" + 0.062*\"size\" + '\n",
      "  '0.046*\"fit\" + 0.026*\"half\" + 0.024*\"usual\" + 0.009*\"coverage\" + '\n",
      "  '0.007*\"slip\" + 0.000*\"gift\"'),\n",
      " (2,\n",
      "  '0.254*\"always\" + 0.188*\"lot\" + 0.070*\"job\" + 0.063*\"hard\" + '\n",
      "  '0.057*\"definitely\" + 0.050*\"reason\" + 0.028*\"child\" + 0.021*\"stay\" + '\n",
      "  '0.013*\"walk\" + 0.010*\"bother\"'),\n",
      " (3,\n",
      "  '0.269*\"find\" + 0.206*\"many\" + 0.065*\"require\" + 0.061*\"read\" + '\n",
      "  '0.052*\"instead\" + 0.030*\"lose\" + 0.030*\"handy\" + 0.023*\"style\" + '\n",
      "  '0.020*\"piece\" + 0.017*\"reasonable\"'),\n",
      " (4,\n",
      "  '0.735*\"great\" + 0.035*\"cheap\" + 0.009*\"beautifully\" + 0.000*\"gift\" + '\n",
      "  '0.000*\"software\" + 0.000*\"card\" + 0.000*\"program\" + 0.000*\"version\" + '\n",
      "  '0.000*\"video\" + 0.000*\"feature\"'),\n",
      " (5,\n",
      "  '0.750*\"love\" + 0.009*\"insert\" + 0.002*\"feeling\" + 0.000*\"gift\" + '\n",
      "  '0.000*\"software\" + 0.000*\"card\" + 0.000*\"program\" + 0.000*\"version\" + '\n",
      "  '0.000*\"video\" + 0.000*\"window\"'),\n",
      " (6,\n",
      "  '0.486*\"easy\" + 0.125*\"change\" + 0.067*\"least\" + 0.052*\"color\" + '\n",
      "  '0.010*\"house\" + 0.004*\"pattern\" + 0.002*\"fashion\" + 0.001*\"male\" + '\n",
      "  '0.000*\"gift\" + 0.000*\"software\"'),\n",
      " (7,\n",
      "  '0.382*\"much\" + 0.219*\"help\" + 0.049*\"consider\" + 0.032*\"original\" + '\n",
      "  '0.000*\"gift\" + 0.000*\"software\" + 0.000*\"card\" + 0.000*\"program\" + '\n",
      "  '0.000*\"version\" + 0.000*\"video\"'),\n",
      " (8,\n",
      "  '0.109*\"buy\" + 0.062*\"problem\" + 0.060*\"see\" + 0.057*\"free\" + 0.051*\"still\" '\n",
      "  '+ 0.048*\"may\" + 0.044*\"box\" + 0.043*\"bit\" + 0.035*\"online\" + '\n",
      "  '0.031*\"support\"'),\n",
      " (9,\n",
      "  '0.101*\"use\" + 0.099*\"good\" + 0.077*\"year\" + 0.077*\"time\" + 0.060*\"would\" + '\n",
      "  '0.043*\"take\" + 0.041*\"also\" + 0.036*\"know\" + 0.035*\"try\" + 0.033*\"look\"'),\n",
      " (10,\n",
      "  '0.252*\"little\" + 0.124*\"excellent\" + 0.111*\"quite\" + 0.073*\"maybe\" + '\n",
      "  '0.054*\"low\" + 0.009*\"rich\" + 0.005*\"plate\" + 0.002*\"gorgeous\" + '\n",
      "  '0.000*\"gift\" + 0.000*\"software\"'),\n",
      " (11,\n",
      "  '0.301*\"new\" + 0.118*\"money\" + 0.066*\"previous\" + 0.063*\"favorite\" + '\n",
      "  '0.053*\"compare\" + 0.032*\"life\" + 0.020*\"hate\" + 0.018*\"class\" + '\n",
      "  '0.018*\"shot\" + 0.009*\"lol\"'),\n",
      " (12,\n",
      "  '0.318*\"purchase\" + 0.191*\"cute\" + 0.110*\"quick\" + 0.066*\"daughter\" + '\n",
      "  '0.013*\"comfortable\" + 0.010*\"material\" + 0.001*\"pink\" + 0.000*\"gift\" + '\n",
      "  '0.000*\"software\" + 0.000*\"card\"'),\n",
      " (13,\n",
      "  '0.353*\"product\" + 0.226*\"want\" + 0.132*\"price\" + 0.040*\"can\" + '\n",
      "  '0.032*\"describe\" + 0.014*\"beautiful\" + 0.014*\"beat\" + 0.012*\"have\" + '\n",
      "  '0.009*\"white\" + 0.008*\"highly_recommend\"'),\n",
      " (14,\n",
      "  '0.178*\"make\" + 0.156*\"give\" + 0.093*\"come\" + 0.085*\"way\" + 0.056*\"old\" + '\n",
      "  '0.046*\"never\" + 0.039*\"pretty\" + 0.037*\"long\" + 0.031*\"star\" + '\n",
      "  '0.029*\"small\"'),\n",
      " (15,\n",
      "  '0.387*\"review\" + 0.059*\"hold\" + 0.016*\"listen\" + 0.000*\"gift\" + '\n",
      "  '0.000*\"software\" + 0.000*\"card\" + 0.000*\"program\" + 0.000*\"version\" + '\n",
      "  '0.000*\"file\" + 0.000*\"video\"'),\n",
      " (16,\n",
      "  '0.250*\"thing\" + 0.133*\"return\" + 0.059*\"wait\" + 0.057*\"late\" + 0.057*\"ever\" '\n",
      "  '+ 0.049*\"second\" + 0.045*\"must\" + 0.032*\"awesome\" + 0.018*\"unfortunately\" + '\n",
      "  '0.013*\"plastic\"'),\n",
      " (17,\n",
      "  '0.238*\"nice\" + 0.158*\"photo\" + 0.121*\"back\" + 0.120*\"receive\" + '\n",
      "  '0.070*\"show\" + 0.036*\"short\" + 0.011*\"disappoint\" + 0.006*\"loose\" + '\n",
      "  '0.005*\"blue\" + 0.002*\"compliment\"'),\n",
      " (18,\n",
      "  '0.202*\"work\" + 0.116*\"need\" + 0.098*\"well\" + 0.093*\"really\" + 0.085*\"say\" + '\n",
      "  '0.059*\"run\" + 0.049*\"day\" + 0.042*\"seem\" + 0.027*\"like\" + 0.023*\"bad\"'),\n",
      " (19,\n",
      "  '0.244*\"get\" + 0.179*\"go\" + 0.082*\"even\" + 0.056*\"first\" + 0.052*\"issue\" + '\n",
      "  '0.047*\"keep\" + 0.047*\"people\" + 0.034*\"several\" + 0.032*\"end\" + '\n",
      "  '0.019*\"month\"')]\n"
     ]
    }
   ],
   "source": [
    "# Print the Keyword in the 10 topics\n",
    "pprint(lda_model.print_topics())\n",
    "doc_lda = lda_model[corpus]"
   ]
  },
  {
   "cell_type": "code",
   "execution_count": 61,
   "metadata": {},
   "outputs": [
    {
     "name": "stdout",
     "output_type": "stream",
     "text": [
      "\n",
      "Perplexity:  -20.823342662022\n",
      "\n",
      "Coherence Score:  0.23006595564813845\n"
     ]
    }
   ],
   "source": [
    "from gensim.models import CoherenceModel\n",
    "# Compute Perplexity\n",
    "print('\\nPerplexity: ', lda_model.log_perplexity(corpus))  # a measure of how good the model is. lower the better.\n",
    "\n",
    "# Compute Coherence Score\n",
    "coherence_model_lda = CoherenceModel(model=lda_model, texts=data_lemmatized, dictionary=id2word, coherence='c_v')\n",
    "coherence_lda = coherence_model_lda.get_coherence()\n",
    "print('\\nCoherence Score: ', coherence_lda)"
   ]
  },
  {
   "cell_type": "code",
   "execution_count": 62,
   "metadata": {},
   "outputs": [],
   "source": [
    "mallet_path = 'mallet-2.0.8/bin/mallet' # update this path\n",
    "ldamallet = gensim.models.wrappers.LdaMallet(mallet_path, corpus=corpus, num_topics=20, id2word=id2word)"
   ]
  },
  {
   "cell_type": "code",
   "execution_count": 63,
   "metadata": {},
   "outputs": [
    {
     "name": "stdout",
     "output_type": "stream",
     "text": [
      "[(11,\n",
      "  [('product', 0.23687171792948236),\n",
      "   ('good', 0.052013003250812706),\n",
      "   ('price', 0.041572893223305825),\n",
      "   ('review', 0.03582145536384096),\n",
      "   ('give', 0.02781945486371593),\n",
      "   ('star', 0.027131782945736434),\n",
      "   ('recommend', 0.01937984496124031),\n",
      "   ('hook', 0.01653538384596149),\n",
      "   ('low', 0.014128532133033259),\n",
      "   ('high', 0.011096524131032758)]),\n",
      " (0,\n",
      "  [('time', 0.06507211600485073),\n",
      "   ('thing', 0.03454859767267848),\n",
      "   ('give', 0.024073070671104573),\n",
      "   ('day', 0.023969863508527492),\n",
      "   ('bad', 0.022963593673400933),\n",
      "   ('make', 0.019764171633511365),\n",
      "   ('back', 0.01844828031065356),\n",
      "   ('people', 0.018009649869700956),\n",
      "   ('work', 0.017983848079056685),\n",
      "   ('long', 0.016822767500064506)]),\n",
      " (15,\n",
      "  [('version', 0.11786060019361085),\n",
      "   ('year', 0.08216360116166506),\n",
      "   ('free', 0.06434535333978703),\n",
      "   ('buy', 0.05998910939012585),\n",
      "   ('day', 0.02150895450145208),\n",
      "   ('month', 0.020389641819941916),\n",
      "   ('subscription', 0.02017787996127783),\n",
      "   ('offer', 0.02014762826718296),\n",
      "   ('pay', 0.019996369796708616),\n",
      "   ('find', 0.019088818973862536)]),\n",
      " (10,\n",
      "  [('window', 0.11346027035938015),\n",
      "   ('upgrade', 0.03352703593801517),\n",
      "   ('run', 0.032847016155621495),\n",
      "   ('drive', 0.021060006594131223),\n",
      "   ('desktop', 0.019844213649851634),\n",
      "   ('system', 0.019617540389053743),\n",
      "   ('machine', 0.017165347840422025),\n",
      "   ('win', 0.01695928123969667),\n",
      "   ('backup', 0.016093801516650182),\n",
      "   ('bit', 0.012879162545334652)]),\n",
      " (12,\n",
      "  [('file', 0.08663687150837988),\n",
      "   ('option', 0.02505027932960894),\n",
      "   ('click', 0.020513966480446927),\n",
      "   ('open', 0.019150837988826816),\n",
      "   ('screen', 0.0151731843575419),\n",
      "   ('search', 0.015016759776536312),\n",
      "   ('change', 0.012625698324022347),\n",
      "   ('find', 0.012111731843575418),\n",
      "   ('set', 0.011977653631284916),\n",
      "   ('view', 0.011798882681564246)]),\n",
      " (4,\n",
      "  [('learn', 0.04484701204020767),\n",
      "   ('program', 0.027698000662763726),\n",
      "   ('language', 0.01527118082403623),\n",
      "   ('speak', 0.015215950513641887),\n",
      "   ('level', 0.014939798961670164),\n",
      "   ('type', 0.014194189771346516),\n",
      "   ('word', 0.012343974373135978),\n",
      "   ('time', 0.011405059096432121),\n",
      "   ('start', 0.010079531646967855),\n",
      "   ('write', 0.009969071026179168)]),\n",
      " (9,\n",
      "  [('year', 0.09416459928810268),\n",
      "   ('tax', 0.03780606191349369),\n",
      "   ('turbotax', 0.03421960953510948),\n",
      "   ('return', 0.032682558515801964),\n",
      "   ('form', 0.031037644267069356),\n",
      "   ('state', 0.02952755905511811),\n",
      "   ('file', 0.02114119296731744),\n",
      "   ('taxis', 0.01979290259950383),\n",
      "   ('block', 0.017123287671232876),\n",
      "   ('turbo_tax', 0.01356380110020494)]),\n",
      " (1,\n",
      "  [('computer', 0.056934961846488226),\n",
      "   ('security', 0.04661107042453164),\n",
      "   ('pc', 0.041130194429351036),\n",
      "   ('internet', 0.030664556214415647),\n",
      "   ('system', 0.02745162890689598),\n",
      "   ('virus', 0.0272153842519313),\n",
      "   ('protection', 0.022797609204091757),\n",
      "   ('device', 0.02241961775614827),\n",
      "   ('scan', 0.021167521084835456),\n",
      "   ('run', 0.020789529636891964)]),\n",
      " (6,\n",
      "  [('quicken', 0.0447484226711203),\n",
      "   ('account', 0.03141402894862415),\n",
      "   ('update', 0.025581888553098987),\n",
      "   ('upgrade', 0.016568580669105562),\n",
      "   ('download', 0.015428662319071099),\n",
      "   ('money', 0.014262234239966068),\n",
      "   ('datum', 0.014103175865542654),\n",
      "   ('time', 0.013758549387625258),\n",
      "   ('intuit', 0.013201845077143311),\n",
      "   ('check', 0.012220985101532262)]),\n",
      " (2,\n",
      "  [('easy', 0.11716695384057314),\n",
      "   ('good', 0.09283274387110425),\n",
      "   ('find', 0.0747559021794988),\n",
      "   ('make', 0.0654454218433542),\n",
      "   ('thing', 0.06039720685589916),\n",
      "   ('lot', 0.05873462108158762),\n",
      "   ('pretty', 0.04065777938998216),\n",
      "   ('work', 0.03633505637677217),\n",
      "   ('program', 0.028868534808500348),\n",
      "   ('nice', 0.021704301562830628)])]\n",
      "\n",
      "Coherence Score:  0.4664240377403292\n"
     ]
    }
   ],
   "source": [
    "# Show Topics\n",
    "pprint(ldamallet.show_topics(formatted=False))\n",
    "\n",
    "# Compute Coherence Score\n",
    "coherence_model_ldamallet = CoherenceModel(model=ldamallet, texts=data_lemmatized, dictionary=id2word, coherence='c_v')\n",
    "coherence_ldamallet = coherence_model_ldamallet.get_coherence()\n",
    "print('\\nCoherence Score: ', coherence_ldamallet)"
   ]
  },
  {
   "cell_type": "code",
   "execution_count": 64,
   "metadata": {},
   "outputs": [],
   "source": [
    "def compute_coherence_values(dictionary, corpus, texts, limit, start=2, step=3):\n",
    "    \"\"\"\n",
    "    Compute c_v coherence for various number of topics\n",
    "\n",
    "    Parameters:\n",
    "    ----------\n",
    "    dictionary : Gensim dictionary\n",
    "    corpus : Gensim corpus\n",
    "    texts : List of input texts\n",
    "    limit : Max num of topics\n",
    "\n",
    "    Returns:\n",
    "    -------\n",
    "    model_list : List of LDA topic models\n",
    "    coherence_values : Coherence values corresponding to the LDA model with respective number of topics\n",
    "    \"\"\"\n",
    "    coherence_values = []\n",
    "    model_list = []\n",
    "    for num_topics in range(start, limit, step):\n",
    "        model = gensim.models.wrappers.LdaMallet(mallet_path, corpus=corpus, num_topics=num_topics, id2word=id2word)\n",
    "        model_list.append(model)\n",
    "        coherencemodel = CoherenceModel(model=model, texts=texts, dictionary=dictionary, coherence='c_v')\n",
    "        coherence_values.append(coherencemodel.get_coherence())\n",
    "\n",
    "    return model_list, coherence_values\n"
   ]
  },
  {
   "cell_type": "code",
   "execution_count": 65,
   "metadata": {},
   "outputs": [],
   "source": [
    "# Can take a long time to run.\n",
    "model_list, coherence_values = compute_coherence_values(dictionary=id2word, corpus=corpus, texts=data_lemmatized, start=2, limit=40, step=6)"
   ]
  },
  {
   "cell_type": "code",
   "execution_count": 68,
   "metadata": {},
   "outputs": [
    {
     "data": {
      "image/png": "[encoded data removed]",
      "text/plain": [
       "<Figure size 432x288 with 1 Axes>"
      ]
     },
     "metadata": {
      "needs_background": "light"
     },
     "output_type": "display_data"
    }
   ],
   "source": [
    "import matplotlib.pyplot as plt\n",
    "# Show graph\n",
    "limit=40; start=2; step=6;\n",
    "x = range(start, limit, step)\n",
    "plt.plot(x, coherence_values)\n",
    "plt.xlabel(\"Num Topics\")\n",
    "plt.ylabel(\"Coherence score\")\n",
    "plt.legend((\"coherence_values\"), loc='best')\n",
    "plt.show()"
   ]
  },
  {
   "cell_type": "code",
   "execution_count": 69,
   "metadata": {},
   "outputs": [
    {
     "name": "stdout",
     "output_type": "stream",
     "text": [
      "Num Topics = 2  has Coherence Value of 0.3642\n",
      "Num Topics = 8  has Coherence Value of 0.4231\n",
      "Num Topics = 14  has Coherence Value of 0.4657\n",
      "Num Topics = 20  has Coherence Value of 0.465\n",
      "Num Topics = 26  has Coherence Value of 0.4784\n",
      "Num Topics = 32  has Coherence Value of 0.4792\n",
      "Num Topics = 38  has Coherence Value of 0.4775\n"
     ]
    }
   ],
   "source": [
    "# Print the coherence scores\n",
    "for m, cv in zip(x, coherence_values):\n",
    "    print(\"Num Topics =\", m, \" has Coherence Value of\", round(cv, 4))"
   ]
  },
  {
   "cell_type": "code",
   "execution_count": 70,
   "metadata": {},
   "outputs": [
    {
     "name": "stdout",
     "output_type": "stream",
     "text": [
      "[(24,\n",
      "  '0.323*\"version\" + 0.062*\"upgrade\" + 0.042*\"previous\" + 0.030*\"user\" + '\n",
      "  '0.028*\"improvement\" + 0.027*\"late\" + 0.022*\"release\" + 0.020*\"feature\" + '\n",
      "  '0.016*\"difference\" + 0.015*\"make\"'),\n",
      " (7,\n",
      "  '0.034*\"buy\" + 0.033*\"bad\" + 0.031*\"review\" + 0.027*\"people\" + '\n",
      "  '0.026*\"company\" + 0.025*\"customer\" + 0.023*\"make\" + 0.021*\"give\" + '\n",
      "  '0.020*\"pay\" + 0.019*\"star\"'),\n",
      " (6,\n",
      "  '0.102*\"office\" + 0.056*\"word\" + 0.050*\"document\" + 0.023*\"format\" + '\n",
      "  '0.018*\"page\" + 0.018*\"pdf\" + 0.017*\"work\" + 0.017*\"outlook\" + '\n",
      "  '0.015*\"create\" + 0.014*\"open\"'),\n",
      " (17,\n",
      "  '0.052*\"support\" + 0.033*\"call\" + 0.026*\"number\" + 0.023*\"time\" + '\n",
      "  '0.022*\"check\" + 0.019*\"purchase\" + 0.018*\"problem\" + 0.017*\"issue\" + '\n",
      "  '0.017*\"receive\" + 0.016*\"email\"'),\n",
      " (21,\n",
      "  '0.107*\"feature\" + 0.091*\"user\" + 0.043*\"easy\" + 0.041*\"interface\" + '\n",
      "  '0.034*\"provide\" + 0.026*\"application\" + 0.023*\"basic\" + 0.022*\"pro\" + '\n",
      "  '0.021*\"offer\" + 0.020*\"simple\"'),\n",
      " (18,\n",
      "  '0.112*\"year\" + 0.055*\"tax\" + 0.049*\"turbotax\" + 0.047*\"return\" + '\n",
      "  '0.044*\"state\" + 0.042*\"form\" + 0.029*\"taxis\" + 0.023*\"block\" + 0.021*\"file\" '\n",
      "  '+ 0.020*\"turbo_tax\"'),\n",
      " (28,\n",
      "  '0.081*\"pc\" + 0.078*\"install\" + 0.064*\"installation\" + 0.055*\"instal\" + '\n",
      "  '0.049*\"device\" + 0.049*\"download\" + 0.038*\"computer\" + 0.036*\"laptop\" + '\n",
      "  '0.027*\"license\" + 0.022*\"key\"'),\n",
      " (15,\n",
      "  '0.124*\"video\" + 0.024*\"editing\" + 0.023*\"movie\" + 0.018*\"edit\" + '\n",
      "  '0.017*\"play\" + 0.015*\"audio\" + 0.015*\"burn\" + 0.015*\"create\" + '\n",
      "  '0.015*\"feature\" + 0.014*\"music\"'),\n",
      " (16,\n",
      "  '0.087*\"make\" + 0.071*\"thing\" + 0.061*\"easy\" + 0.051*\"lot\" + 0.046*\"good\" + '\n",
      "  '0.037*\"business\" + 0.031*\"pretty\" + 0.027*\"simple\" + 0.025*\"small\" + '\n",
      "  '0.024*\"people\"'),\n",
      " (5,\n",
      "  '0.433*\"program\" + 0.081*\"easy\" + 0.064*\"find\" + 0.042*\"lot\" + 0.030*\"time\" '\n",
      "  '+ 0.022*\"make\" + 0.018*\"good\" + 0.017*\"work\" + 0.016*\"quick\" + '\n",
      "  '0.012*\"thing\"'),\n",
      " (25,\n",
      "  '0.064*\"quicken\" + 0.036*\"account\" + 0.021*\"quickbook\" + 0.019*\"business\" + '\n",
      "  '0.019*\"intuit\" + 0.017*\"transaction\" + 0.017*\"update\" + 0.017*\"report\" + '\n",
      "  '0.015*\"download\" + 0.014*\"money\"'),\n",
      " (23,\n",
      "  '0.026*\"feel\" + 0.022*\"hair\" + 0.022*\"leave\" + 0.022*\"clean\" + 0.019*\"smell\" '\n",
      "  '+ 0.019*\"skin\" + 0.018*\"soap\" + 0.016*\"scent\" + 0.014*\"bar\" + 0.012*\"dry\"'),\n",
      " (20,\n",
      "  '0.111*\"price\" + 0.089*\"buy\" + 0.062*\"good\" + 0.056*\"purchase\" + '\n",
      "  '0.044*\"free\" + 0.040*\"worth\" + 0.032*\"cost\" + 0.030*\"money\" + 0.027*\"card\" '\n",
      "  '+ 0.025*\"cheap\"'),\n",
      " (30,\n",
      "  '0.044*\"information\" + 0.043*\"online\" + 0.037*\"find\" + 0.033*\"free\" + '\n",
      "  '0.024*\"family\" + 0.023*\"month\" + 0.021*\"service\" + 0.021*\"include\" + '\n",
      "  '0.019*\"access\" + 0.017*\"website\"'),\n",
      " (1,\n",
      "  '0.206*\"great\" + 0.129*\"love\" + 0.052*\"gift\" + 0.029*\"nice\" + '\n",
      "  '0.028*\"perfect\" + 0.017*\"shoe\" + 0.017*\"fit\" + 0.016*\"order\" + '\n",
      "  '0.015*\"comfortable\" + 0.014*\"friend\"'),\n",
      " (27,\n",
      "  '0.068*\"learn\" + 0.024*\"language\" + 0.019*\"level\" + 0.014*\"map\" + '\n",
      "  '0.012*\"lesson\" + 0.012*\"speak\" + 0.011*\"spanish\" + 0.010*\"word\" + '\n",
      "  '0.009*\"class\" + 0.009*\"include\"'),\n",
      " (31,\n",
      "  '0.177*\"window\" + 0.034*\"upgrade\" + 0.029*\"run\" + 0.027*\"win\" + '\n",
      "  '0.026*\"desktop\" + 0.017*\"start\" + 0.015*\"screen\" + 0.014*\"install\" + '\n",
      "  '0.014*\"machine\" + 0.013*\"update\"'),\n",
      " (4,\n",
      "  '0.089*\"photo\" + 0.044*\"tool\" + 0.029*\"image\" + 0.023*\"editing\" + '\n",
      "  '0.021*\"edit\" + 0.017*\"picture\" + 0.016*\"effect\" + 0.016*\"feature\" + '\n",
      "  '0.013*\"corel\" + 0.011*\"include\"'),\n",
      " (3,\n",
      "  '0.105*\"magazine\" + 0.038*\"article\" + 0.038*\"read\" + 0.033*\"issue\" + '\n",
      "  '0.018*\"recipe\" + 0.017*\"enjoy\" + 0.015*\"cover\" + 0.015*\"page\" + '\n",
      "  '0.013*\"subscription\" + 0.012*\"interesting\"'),\n",
      " (22,\n",
      "  '0.066*\"security\" + 0.060*\"computer\" + 0.044*\"internet\" + 0.040*\"virus\" + '\n",
      "  '0.033*\"protection\" + 0.031*\"scan\" + 0.029*\"system\" + 0.023*\"protect\" + '\n",
      "  '0.023*\"mcafee\" + 0.020*\"run\"')]\n"
     ]
    }
   ],
   "source": [
    "# Select the model and print the topics\n",
    "optimal_model = model_list[5]\n",
    "model_topics = optimal_model.show_topics(formatted=False)\n",
    "pprint(optimal_model.print_topics(num_words=10))\n"
   ]
  },
  {
   "cell_type": "code",
   "execution_count": 51,
   "metadata": {},
   "outputs": [],
   "source": [
    "def format_topics_sentences(ldamodel=lda_model, corpus=corpus, texts=data):\n",
    "    # Init output\n",
    "    sent_topics_df = pd.DataFrame()\n",
    "\n",
    "    # Get main topic in each document\n",
    "    for i, row in enumerate(ldamodel[corpus]):\n",
    "        row = sorted(row, key=lambda x: (x[1]), reverse=True)\n",
    "        # Get the Dominant topic, Perc Contribution and Keywords for each document\n",
    "        for j, (topic_num, prop_topic) in enumerate(row):\n",
    "            if j == 0:  # => dominant topic\n",
    "                wp = ldamodel.show_topic(topic_num)\n",
    "                topic_keywords = \", \".join([word for word, prop in wp])\n",
    "                sent_topics_df = sent_topics_df.append(pd.Series([int(topic_num), round(prop_topic,4), topic_keywords]), ignore_index=True)\n",
    "            else:\n",
    "                break\n",
    "    sent_topics_df.columns = ['Dominant_Topic', 'Perc_Contribution', 'Topic_Keywords']\n",
    "\n",
    "    # Add original text to the end of the output\n",
    "    contents = pd.Series(texts)\n",
    "    sent_topics_df = pd.concat([sent_topics_df, contents], axis=1)\n",
    "    return(sent_topics_df)"
   ]
  },
  {
   "cell_type": "code",
   "execution_count": 52,
   "metadata": {},
   "outputs": [
    {
     "data": {
      "text/plain": [
       "'Great product and price!'"
      ]
     },
     "execution_count": 52,
     "metadata": {},
     "output_type": "execute_result"
    }
   ],
   "source": [
    "data[0]"
   ]
  },
  {
   "cell_type": "code",
   "execution_count": 53,
   "metadata": {},
   "outputs": [
    {
     "data": {
      "text/plain": [
       "[(0, 1), (1, 1), (2, 1)]"
      ]
     },
     "execution_count": 53,
     "metadata": {},
     "output_type": "execute_result"
    }
   ],
   "source": [
    "corpus[0]"
   ]
  },
  {
   "cell_type": "code",
   "execution_count": 54,
   "metadata": {},
   "outputs": [],
   "source": [
    "df_topic_sents_keywords = format_topics_sentences(ldamodel=optimal_model, corpus=corpus, texts=data)\n",
    "# Format\n",
    "df_dominant_topic = df_topic_sents_keywords.reset_index()\n",
    "df_dominant_topic.columns = ['Document_No', 'Dominant_Topic', 'Topic_Perc_Contrib', 'Keywords', 'Text']\n"
   ]
  },
  {
   "cell_type": "code",
   "execution_count": 55,
   "metadata": {},
   "outputs": [
    {
     "data": {
      "text/html": [
       "<div>\n",
       "<style scoped>\n",
       "    .dataframe tbody tr th:only-of-type {\n",
       "        vertical-align: middle;\n",
       "    }\n",
       "\n",
       "    .dataframe tbody tr th {\n",
       "        vertical-align: top;\n",
       "    }\n",
       "\n",
       "    .dataframe thead th {\n",
       "        text-align: right;\n",
       "    }\n",
       "</style>\n",
       "<table border=\"1\" class=\"dataframe\">\n",
       "  <thead>\n",
       "    <tr style=\"text-align: right;\">\n",
       "      <th></th>\n",
       "      <th>Document_No</th>\n",
       "      <th>Dominant_Topic</th>\n",
       "      <th>Topic_Perc_Contrib</th>\n",
       "      <th>Keywords</th>\n",
       "      <th>Text</th>\n",
       "    </tr>\n",
       "  </thead>\n",
       "  <tbody>\n",
       "    <tr>\n",
       "      <th>0</th>\n",
       "      <td>0</td>\n",
       "      <td>27.0</td>\n",
       "      <td>0.0458</td>\n",
       "      <td>good, great, easy, nice, price, excellent, exp...</td>\n",
       "      <td>Great product and price!</td>\n",
       "    </tr>\n",
       "    <tr>\n",
       "      <th>1</th>\n",
       "      <td>1</td>\n",
       "      <td>27.0</td>\n",
       "      <td>0.0479</td>\n",
       "      <td>good, great, easy, nice, price, excellent, exp...</td>\n",
       "      <td>Great product and price!</td>\n",
       "    </tr>\n",
       "    <tr>\n",
       "      <th>2</th>\n",
       "      <td>2</td>\n",
       "      <td>27.0</td>\n",
       "      <td>0.0521</td>\n",
       "      <td>good, great, easy, nice, price, excellent, exp...</td>\n",
       "      <td>Great product and price!</td>\n",
       "    </tr>\n",
       "    <tr>\n",
       "      <th>3</th>\n",
       "      <td>3</td>\n",
       "      <td>27.0</td>\n",
       "      <td>0.0521</td>\n",
       "      <td>good, great, easy, nice, price, excellent, exp...</td>\n",
       "      <td>Great product and price!</td>\n",
       "    </tr>\n",
       "    <tr>\n",
       "      <th>4</th>\n",
       "      <td>4</td>\n",
       "      <td>27.0</td>\n",
       "      <td>0.0563</td>\n",
       "      <td>good, great, easy, nice, price, excellent, exp...</td>\n",
       "      <td>Great product and price!</td>\n",
       "    </tr>\n",
       "    <tr>\n",
       "      <th>5</th>\n",
       "      <td>5</td>\n",
       "      <td>22.0</td>\n",
       "      <td>0.0408</td>\n",
       "      <td>software, business, easy, package, small, comp...</td>\n",
       "      <td>Waaay too small. Will use for futur children!</td>\n",
       "    </tr>\n",
       "    <tr>\n",
       "      <th>6</th>\n",
       "      <td>6</td>\n",
       "      <td>33.0</td>\n",
       "      <td>0.0374</td>\n",
       "      <td>shoe, comfortable, size, love, fit, wear, perf...</td>\n",
       "      <td>Stays vibrant after many washes</td>\n",
       "    </tr>\n",
       "    <tr>\n",
       "      <th>7</th>\n",
       "      <td>7</td>\n",
       "      <td>33.0</td>\n",
       "      <td>0.0437</td>\n",
       "      <td>shoe, comfortable, size, love, fit, wear, perf...</td>\n",
       "      <td>Stays vibrant after many washes</td>\n",
       "    </tr>\n",
       "    <tr>\n",
       "      <th>8</th>\n",
       "      <td>8</td>\n",
       "      <td>33.0</td>\n",
       "      <td>0.0595</td>\n",
       "      <td>shoe, comfortable, size, love, fit, wear, perf...</td>\n",
       "      <td>My son really likes the pink. Ones which I was...</td>\n",
       "    </tr>\n",
       "    <tr>\n",
       "      <th>9</th>\n",
       "      <td>9</td>\n",
       "      <td>19.0</td>\n",
       "      <td>0.0388</td>\n",
       "      <td>window, run, upgrade, desktop, system, user, b...</td>\n",
       "      <td>Waaay too small. Will use for future child.</td>\n",
       "    </tr>\n",
       "  </tbody>\n",
       "</table>\n",
       "</div>"
      ],
      "text/plain": [
       "   Document_No  Dominant_Topic  Topic_Perc_Contrib  \\\n",
       "0            0            27.0              0.0458   \n",
       "1            1            27.0              0.0479   \n",
       "2            2            27.0              0.0521   \n",
       "3            3            27.0              0.0521   \n",
       "4            4            27.0              0.0563   \n",
       "5            5            22.0              0.0408   \n",
       "6            6            33.0              0.0374   \n",
       "7            7            33.0              0.0437   \n",
       "8            8            33.0              0.0595   \n",
       "9            9            19.0              0.0388   \n",
       "\n",
       "                                            Keywords  \\\n",
       "0  good, great, easy, nice, price, excellent, exp...   \n",
       "1  good, great, easy, nice, price, excellent, exp...   \n",
       "2  good, great, easy, nice, price, excellent, exp...   \n",
       "3  good, great, easy, nice, price, excellent, exp...   \n",
       "4  good, great, easy, nice, price, excellent, exp...   \n",
       "5  software, business, easy, package, small, comp...   \n",
       "6  shoe, comfortable, size, love, fit, wear, perf...   \n",
       "7  shoe, comfortable, size, love, fit, wear, perf...   \n",
       "8  shoe, comfortable, size, love, fit, wear, perf...   \n",
       "9  window, run, upgrade, desktop, system, user, b...   \n",
       "\n",
       "                                                Text  \n",
       "0                           Great product and price!  \n",
       "1                           Great product and price!  \n",
       "2                           Great product and price!  \n",
       "3                           Great product and price!  \n",
       "4                           Great product and price!  \n",
       "5      Waaay too small. Will use for futur children!  \n",
       "6                    Stays vibrant after many washes  \n",
       "7                    Stays vibrant after many washes  \n",
       "8  My son really likes the pink. Ones which I was...  \n",
       "9        Waaay too small. Will use for future child.  "
      ]
     },
     "execution_count": 55,
     "metadata": {},
     "output_type": "execute_result"
    }
   ],
   "source": [
    "# Show\n",
    "df_dominant_topic.head(10)"
   ]
  },
  {
   "cell_type": "code",
   "execution_count": 56,
   "metadata": {},
   "outputs": [
    {
     "data": {
      "text/plain": [
       "'shoe, comfortable, size, love, fit, wear, perfect, foot, day, light'"
      ]
     },
     "execution_count": 56,
     "metadata": {},
     "output_type": "execute_result"
    }
   ],
   "source": [
    "df_dominant_topic.Keywords[300]"
   ]
  },
  {
   "cell_type": "code",
   "execution_count": 57,
   "metadata": {},
   "outputs": [
    {
     "data": {
      "text/plain": [
       "'Love these sneakers. Light weight and comfortable even without socks.'"
      ]
     },
     "execution_count": 57,
     "metadata": {},
     "output_type": "execute_result"
    }
   ],
   "source": [
    "df_dominant_topic.Text[300]"
   ]
  },
  {
   "cell_type": "code",
   "execution_count": 58,
   "metadata": {},
   "outputs": [
    {
     "data": {
      "text/html": [
       "<div>\n",
       "<style scoped>\n",
       "    .dataframe tbody tr th:only-of-type {\n",
       "        vertical-align: middle;\n",
       "    }\n",
       "\n",
       "    .dataframe tbody tr th {\n",
       "        vertical-align: top;\n",
       "    }\n",
       "\n",
       "    .dataframe thead th {\n",
       "        text-align: right;\n",
       "    }\n",
       "</style>\n",
       "<table border=\"1\" class=\"dataframe\">\n",
       "  <thead>\n",
       "    <tr style=\"text-align: right;\">\n",
       "      <th></th>\n",
       "      <th>Topic_Num</th>\n",
       "      <th>Topic_Perc_Contrib</th>\n",
       "      <th>Keywords</th>\n",
       "      <th>Text</th>\n",
       "    </tr>\n",
       "  </thead>\n",
       "  <tbody>\n",
       "    <tr>\n",
       "      <th>0</th>\n",
       "      <td>0.0</td>\n",
       "      <td>0.4281</td>\n",
       "      <td>program, find, easy, map, work, point, plan, l...</td>\n",
       "      <td>There are a couple of choices when you are loo...</td>\n",
       "    </tr>\n",
       "    <tr>\n",
       "      <th>1</th>\n",
       "      <td>1.0</td>\n",
       "      <td>0.3584</td>\n",
       "      <td>love, hair, feel, shampoo, great, make, leave,...</td>\n",
       "      <td>Rock The Runway: Beautiful Red Color, does not...</td>\n",
       "    </tr>\n",
       "    <tr>\n",
       "      <th>2</th>\n",
       "      <td>2.0</td>\n",
       "      <td>0.5662</td>\n",
       "      <td>make, find, item, give, family, online, inform...</td>\n",
       "      <td>It has been said that the biggest cause of str...</td>\n",
       "    </tr>\n",
       "    <tr>\n",
       "      <th>3</th>\n",
       "      <td>3.0</td>\n",
       "      <td>0.4209</td>\n",
       "      <td>security, computer, internet, virus, system, p...</td>\n",
       "      <td>Personal computers are under constant attack a...</td>\n",
       "    </tr>\n",
       "    <tr>\n",
       "      <th>4</th>\n",
       "      <td>4.0</td>\n",
       "      <td>0.4210</td>\n",
       "      <td>problem, support, software, issue, call, fix, ...</td>\n",
       "      <td>&lt;Warning: You must be careful of [stealth mark...</td>\n",
       "    </tr>\n",
       "  </tbody>\n",
       "</table>\n",
       "</div>"
      ],
      "text/plain": [
       "   Topic_Num  Topic_Perc_Contrib  \\\n",
       "0        0.0              0.4281   \n",
       "1        1.0              0.3584   \n",
       "2        2.0              0.5662   \n",
       "3        3.0              0.4209   \n",
       "4        4.0              0.4210   \n",
       "\n",
       "                                            Keywords  \\\n",
       "0  program, find, easy, map, work, point, plan, l...   \n",
       "1  love, hair, feel, shampoo, great, make, leave,...   \n",
       "2  make, find, item, give, family, online, inform...   \n",
       "3  security, computer, internet, virus, system, p...   \n",
       "4  problem, support, software, issue, call, fix, ...   \n",
       "\n",
       "                                                Text  \n",
       "0  There are a couple of choices when you are loo...  \n",
       "1  Rock The Runway: Beautiful Red Color, does not...  \n",
       "2  It has been said that the biggest cause of str...  \n",
       "3  Personal computers are under constant attack a...  \n",
       "4  <Warning: You must be careful of [stealth mark...  "
      ]
     },
     "execution_count": 58,
     "metadata": {},
     "output_type": "execute_result"
    }
   ],
   "source": [
    "# Group top 5 sentences under each topic\n",
    "sent_topics_sorteddf_mallet = pd.DataFrame()\n",
    "\n",
    "sent_topics_outdf_grpd = df_topic_sents_keywords.groupby('Dominant_Topic')\n",
    "\n",
    "for i, grp in sent_topics_outdf_grpd:\n",
    "    sent_topics_sorteddf_mallet = pd.concat([sent_topics_sorteddf_mallet, \n",
    "                                             grp.sort_values(['Perc_Contribution'], ascending=[0]).head(1)], \n",
    "                                            axis=0)\n",
    "\n",
    "# Reset Index    \n",
    "sent_topics_sorteddf_mallet.reset_index(drop=True, inplace=True)\n",
    "\n",
    "# Format\n",
    "sent_topics_sorteddf_mallet.columns = ['Topic_Num', \"Topic_Perc_Contrib\", \"Keywords\", \"Text\"]\n",
    "\n",
    "# Show\n",
    "sent_topics_sorteddf_mallet.head()\n"
   ]
  },
  {
   "cell_type": "code",
   "execution_count": 59,
   "metadata": {},
   "outputs": [
    {
     "name": "stdout",
     "output_type": "stream",
     "text": [
      "Bottom-line: Within its 130 or so glossy pages I have found a home, a resting place from which I can gleam my needed automotive knowledge.\n",
      "\n",
      "Like most men in their twenties I was a car guy.  I ate and drank the elixir of horsepower, torque, RPM's, and colored sheet metal.  I could recite long lists of carlines and their varying specifications.  I subscribed to and devoured all of the (four) the nation's most popular car magazines of the time: \"Car & Driver,\" Motor Trend, Road & Track, and the beauty queen of them all, Automobile Magazine.  But as time and overseas assignments took my attention elsewhere, one-by-one my subscriptions lapsed and my car fetish all but died.\n",
      "\n",
      "But, now in the autumn of my life, I have rekindled my love of cars, especially expensive high performance mid-sized cars from well-known and well respected nameplates we all know: Cadillac, BMW, Audi, Lexus, Lincoln, Jaguar, and of course Mercedes-Benz.  So when I got a $5.00 off coupon from Magazines.com via e-mail, I plowed through the 230 or so men's magazines before finally deciding on \"Car & Driver Magazine\" published monthly by Hachette Filipacchi Media U.S., Inc.\n",
      "\n",
      "Like most car magazines, \"Car & Driver\" is full of glossy, colorful, pictures and serious well written articles, car comparisons, and long-term road tests, but the magazine offers so much more.  Unlike the other automobile periodicals, \"Car & Driver\" serves up truly useful (practical) information for the everyman, or woman.  This subtle distinction elevates \"Car & Driver\" above the rest and makes it far and away the best car rag for my hard earned money.\n",
      "\n",
      "However, like other three American car magazines \"Car & Driver\" covers a broad swath of the American automobile scene, but it also does a fair job of delving into the international automobile scene as well.  And the reaches far-a-field to bring readers the off-beat, the exotic and the really expensive, but fear not the Chevrolet Aveo's of this world also find a place inside the glossy pages of \"Car & Driver\" magazine.  And the magazine does this is a format that is easy to follow and extremely inviting.\n",
      "\n",
      "For instance in the October 2008 issue \"Car & Driver\" featured the previews/road tests of the following cars: Acura ZDX, Alfa 8C Spider, 2011 BMW X1, Mercedes-Benz E63 AMG, 2010 Ford Shelby Mustang GT500 Convertible, 2009 Pontiac G8 GXP, plus a comprehensive write-up on The Best Cars for $20,000.  Add to these two very well written and equally as comprehensive comparison article: Audi R8 V-10 vs. Ferrari 430 Scuderia, and you have receipt for the most useful automobile magazine this side of the pond.\n",
      "\n",
      "Another strong incentive to read \"Car & Driver\" is its decided lack of wall-to-wall advertisements.  Most of the magazine is dedicated to substance; the articles are what make \"Car & Driver\" such a joy to read.  The articles are well written, concise, and comprehensive.  And although the writers fill the paragraphs with lexicon of the automobile industry, the prose never talks down to the reader, or looses my interest along the way.\n",
      "\n",
      "Another way \"Car & Driver\" distinguishes itself from the rest, is its more than comprehensive write-up on each automobile within the magazine.  Even the shortest articles, or write-up's feature a detailed description of the car, its interior and exterior specifications, road test results, pricing, and possible competitors.  No other magazine that I have read thus far--Automobile, Motor Trend, or Road & Track--offers as much useful information.\n",
      "\n",
      "Interspersed between these nuggets of auto knowledge are other articles that deal with esoteric but informative tidbits from the automotive arena.  For instance the same issue that brought us the above mentioned articles offered up a 6-page article on a WWII era Jeep!  Not exactly need to know information, but human interest stories are always welcome in this world seemingly filled with nothing by death and mayhem.\n",
      "\n",
      "Even some of the photographs in \"Car & Driver Magazine\" have a story to tell in the guise of in-depth exterior and mechanical analysis.  In the final analysis there is no other car magazine I would rather subscribe to than \"Car & Driver Magazine.\"  Within its 130 or so glossy pages I have found a home, a resting place from which I can gleam my needed automotive knowledge.  For me there is no other Car Mag!\n",
      "\n",
      "\n",
      "magazine, article, issue, read, recipe, enjoy, page, cover, interesting, food\n"
     ]
    }
   ],
   "source": [
    "print(sent_topics_sorteddf_mallet.Text[5])\n",
    "print(\"\\n\")\n",
    "print(sent_topics_sorteddf_mallet.Keywords[5])"
   ]
  },
  {
   "cell_type": "code",
   "execution_count": 60,
   "metadata": {},
   "outputs": [
    {
     "data": {
      "text/html": [
       "<div>\n",
       "<style scoped>\n",
       "    .dataframe tbody tr th:only-of-type {\n",
       "        vertical-align: middle;\n",
       "    }\n",
       "\n",
       "    .dataframe tbody tr th {\n",
       "        vertical-align: top;\n",
       "    }\n",
       "\n",
       "    .dataframe thead th {\n",
       "        text-align: right;\n",
       "    }\n",
       "</style>\n",
       "<table border=\"1\" class=\"dataframe\">\n",
       "  <thead>\n",
       "    <tr style=\"text-align: right;\">\n",
       "      <th></th>\n",
       "      <th>Dominant_Topic</th>\n",
       "      <th>Topic_Keywords</th>\n",
       "      <th>Num_Documents</th>\n",
       "      <th>Perc_Documents</th>\n",
       "    </tr>\n",
       "  </thead>\n",
       "  <tbody>\n",
       "    <tr>\n",
       "      <th>0</th>\n",
       "      <td>27.0</td>\n",
       "      <td>good, great, easy, nice, price, excellent, exp...</td>\n",
       "      <td>1477.0</td>\n",
       "      <td>0.0512</td>\n",
       "    </tr>\n",
       "    <tr>\n",
       "      <th>1</th>\n",
       "      <td>27.0</td>\n",
       "      <td>good, great, easy, nice, price, excellent, exp...</td>\n",
       "      <td>2205.0</td>\n",
       "      <td>0.0764</td>\n",
       "    </tr>\n",
       "    <tr>\n",
       "      <th>2</th>\n",
       "      <td>27.0</td>\n",
       "      <td>good, great, easy, nice, price, excellent, exp...</td>\n",
       "      <td>479.0</td>\n",
       "      <td>0.0166</td>\n",
       "    </tr>\n",
       "    <tr>\n",
       "      <th>3</th>\n",
       "      <td>27.0</td>\n",
       "      <td>good, great, easy, nice, price, excellent, exp...</td>\n",
       "      <td>1442.0</td>\n",
       "      <td>0.0499</td>\n",
       "    </tr>\n",
       "    <tr>\n",
       "      <th>4</th>\n",
       "      <td>27.0</td>\n",
       "      <td>good, great, easy, nice, price, excellent, exp...</td>\n",
       "      <td>437.0</td>\n",
       "      <td>0.0151</td>\n",
       "    </tr>\n",
       "  </tbody>\n",
       "</table>\n",
       "</div>"
      ],
      "text/plain": [
       "   Dominant_Topic                                     Topic_Keywords  \\\n",
       "0            27.0  good, great, easy, nice, price, excellent, exp...   \n",
       "1            27.0  good, great, easy, nice, price, excellent, exp...   \n",
       "2            27.0  good, great, easy, nice, price, excellent, exp...   \n",
       "3            27.0  good, great, easy, nice, price, excellent, exp...   \n",
       "4            27.0  good, great, easy, nice, price, excellent, exp...   \n",
       "\n",
       "   Num_Documents  Perc_Documents  \n",
       "0         1477.0          0.0512  \n",
       "1         2205.0          0.0764  \n",
       "2          479.0          0.0166  \n",
       "3         1442.0          0.0499  \n",
       "4          437.0          0.0151  "
      ]
     },
     "execution_count": 60,
     "metadata": {},
     "output_type": "execute_result"
    }
   ],
   "source": [
    "# Number of Documents for Each Topic\n",
    "topic_counts = df_topic_sents_keywords['Dominant_Topic'].value_counts()\n",
    "\n",
    "# Percentage of Documents for Each Topic\n",
    "topic_contribution = round(topic_counts/topic_counts.sum(), 4)\n",
    "\n",
    "# Topic Number and Keywords\n",
    "topic_num_keywords = df_topic_sents_keywords[['Dominant_Topic', 'Topic_Keywords']]\n",
    "\n",
    "# Concatenate Column wise\n",
    "df_dominant_topics = pd.concat([topic_num_keywords, topic_counts, topic_contribution], axis=1)\n",
    "\n",
    "# Change Column names\n",
    "df_dominant_topics.columns = ['Dominant_Topic', 'Topic_Keywords', 'Num_Documents', 'Perc_Documents']\n",
    "\n",
    "# Show\n",
    "df_dominant_topics.head()\n"
   ]
  },
  {
   "cell_type": "code",
   "execution_count": 61,
   "metadata": {},
   "outputs": [
    {
     "data": {
      "text/plain": [
       "[(16,\n",
       "  '0.000*\"untrusted\" + 0.000*\"iffy\" + 0.000*\"booger\" + 0.000*\"thank_god\" + 0.000*\"dwindle\" + 0.000*\"doctrine\" + 0.000*\"bot\" + 0.000*\"attacker\" + 0.000*\"enquiring\" + 0.000*\"prowel\"'),\n",
       " (4,\n",
       "  '0.000*\"untrusted\" + 0.000*\"iffy\" + 0.000*\"booger\" + 0.000*\"thank_god\" + 0.000*\"dwindle\" + 0.000*\"doctrine\" + 0.000*\"bot\" + 0.000*\"attacker\" + 0.000*\"enquiring\" + 0.000*\"prowel\"'),\n",
       " (8,\n",
       "  '0.313*\"bad\" + 0.000*\"gift\" + 0.000*\"software\" + 0.000*\"card\" + 0.000*\"program\" + 0.000*\"version\" + 0.000*\"see\" + 0.000*\"window\" + 0.000*\"customer\" + 0.000*\"computer\"'),\n",
       " (0,\n",
       "  '0.224*\"definitely\" + 0.067*\"true\" + 0.029*\"red\" + 0.000*\"gift\" + 0.000*\"card\" + 0.000*\"software\" + 0.000*\"easy\" + 0.000*\"program\" + 0.000*\"version\" + 0.000*\"take\"'),\n",
       " (19,\n",
       "  '0.254*\"excellent\" + 0.174*\"require\" + 0.147*\"value\" + 0.000*\"gift\" + 0.000*\"card\" + 0.000*\"software\" + 0.000*\"program\" + 0.000*\"version\" + 0.000*\"easy\" + 0.000*\"user\"'),\n",
       " (18,\n",
       "  '0.430*\"get\" + 0.144*\"even\" + 0.097*\"old\" + 0.054*\"high\" + 0.040*\"quality\" + 0.039*\"easily\" + 0.035*\"month\" + 0.021*\"medium\" + 0.018*\"brand\" + 0.006*\"replace\"'),\n",
       " (17,\n",
       "  '0.236*\"make\" + 0.191*\"buy\" + 0.102*\"thing\" + 0.078*\"order\" + 0.076*\"think\" + 0.041*\"end\" + 0.030*\"big\" + 0.029*\"hard\" + 0.026*\"late\" + 0.023*\"ever\"'),\n",
       " (7,\n",
       "  '0.334*\"use\" + 0.256*\"year\" + 0.120*\"problem\" + 0.092*\"day\" + 0.059*\"support\" + 0.044*\"provide\" + 0.005*\"insert\" + 0.000*\"gift\" + 0.000*\"card\" + 0.000*\"software\"'),\n",
       " (2,\n",
       "  '0.179*\"well\" + 0.146*\"much\" + 0.100*\"run\" + 0.089*\"lot\" + 0.073*\"seem\" + 0.066*\"sure\" + 0.045*\"like\" + 0.043*\"home\" + 0.039*\"fine\" + 0.038*\"better\"'),\n",
       " (13,\n",
       "  '0.217*\"time\" + 0.175*\"need\" + 0.140*\"say\" + 0.119*\"purchase\" + 0.098*\"try\" + 0.064*\"first\" + 0.046*\"expect\" + 0.031*\"next\" + 0.028*\"probably\" + 0.008*\"break\"')]"
      ]
     },
     "execution_count": 61,
     "metadata": {},
     "output_type": "execute_result"
    }
   ],
   "source": [
    "lda_model.show_topics()"
   ]
  },
  {
   "cell_type": "code",
   "execution_count": 124,
   "metadata": {},
   "outputs": [
    {
     "data": {
      "image/png": "[encoded data removed]",
      "text/plain": [
       "<Figure size 720x720 with 4 Axes>"
      ]
     },
     "metadata": {
      "needs_background": "light"
     },
     "output_type": "display_data"
    }
   ],
   "source": [
    "# 1. Wordcloud of Top N words in each topic\n",
    "from matplotlib import pyplot as plt\n",
    "from wordcloud import WordCloud, STOPWORDS\n",
    "import matplotlib.colors as mcolors\n",
    "\n",
    "cols = [color for name, color in mcolors.TABLEAU_COLORS.items()]  # more colors: 'mcolors.XKCD_COLORS'\n",
    "\n",
    "cloud = WordCloud(stopwords=stop_words,\n",
    "                  background_color='white',\n",
    "                  width=2500,\n",
    "                  height=1800,\n",
    "                  max_words=10,\n",
    "                  colormap='tab10',\n",
    "                  color_func=lambda *args, **kwargs: cols[i],\n",
    "                  prefer_horizontal=1.0)\n",
    "\n",
    "topics = lda_model.show_topics(formatted=False)\n",
    "\n",
    "fig, axes = plt.subplots(2, 2, figsize=(10,10), sharex=True, sharey=True)\n",
    "\n",
    "for i, ax in enumerate(axes.flatten()):\n",
    "    fig.add_subplot(ax)\n",
    "    topic_words = dict(topics[i][1])\n",
    "    cloud.generate_from_frequencies(topic_words, max_font_size=300)\n",
    "    plt.gca().imshow(cloud)\n",
    "    plt.gca().set_title('Topic ' + str(i), fontdict=dict(size=16))\n",
    "    plt.gca().axis('off')\n",
    "\n",
    "\n",
    "plt.subplots_adjust(wspace=0, hspace=0)\n",
    "plt.axis('off')\n",
    "plt.margins(x=0, y=0)\n",
    "plt.tight_layout()\n",
    "plt.show()\n"
   ]
  },
  {
   "cell_type": "code",
   "execution_count": null,
   "metadata": {},
   "outputs": [],
   "source": []
  }
 ],
 "metadata": {
  "kernelspec": {
   "display_name": "Python 3",
   "language": "python",
   "name": "python3"
  },
  "language_info": {
   "codemirror_mode": {
    "name": "ipython",
    "version": 3
   },
   "file_extension": ".py",
   "mimetype": "text/x-python",
   "name": "python",
   "nbconvert_exporter": "python",
   "pygments_lexer": "ipython3",
   "version": "3.7.3"
  }
 },
 "nbformat": 4,
 "nbformat_minor": 2
}
